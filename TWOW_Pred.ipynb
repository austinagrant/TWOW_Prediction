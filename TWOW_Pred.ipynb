{
 "cells": [
  {
   "cell_type": "code",
   "execution_count": 1,
   "metadata": {},
   "outputs": [
    {
     "name": "stdout",
     "output_type": "stream",
     "text": [
      "Scraping page 1...\n",
      "Total posts collected: 0\n",
      "Posts saved to grrm_notablog_posts.json\n"
     ]
    }
   ],
   "source": [
    "from selenium import webdriver\n",
    "from selenium.webdriver.chrome.service import Service\n",
    "from selenium.webdriver.common.by import By\n",
    "from selenium.webdriver.chrome.options import Options\n",
    "import json\n",
    "import time\n",
    "\n",
    "# Set up Chrome options\n",
    "chrome_options = Options()\n",
    "chrome_options.add_argument(\"--headless\")  # Run Chrome in headless mode\n",
    "\n",
    "# Path to your ChromeDriver\n",
    "service = Service('/path/to/chromedriver')  # Update this path\n",
    "\n",
    "# Initialize WebDriver\n",
    "driver = webdriver.Chrome(service=service, options=chrome_options)\n",
    "\n",
    "# Function to scrape posts from a single page\n",
    "def scrape_posts(page_number):\n",
    "    url = f'https://georgerrmartin.com/notablog/page/{page_number}/'\n",
    "    driver.get(url)\n",
    "    time.sleep(3)  # Wait for the page to load\n",
    "\n",
    "    posts = []\n",
    "    \n",
    "    post_elements = driver.find_elements(By.CSS_SELECTOR, 'article.post')\n",
    "\n",
    "    for post in post_elements:\n",
    "        # Extract the title, date, and content of the post\n",
    "        title = post.find_element(By.CSS_SELECTOR, 'h2.entry-title').text.strip()\n",
    "        date = post.find_element(By.CSS_SELECTOR, 'time.entry-date').text.strip()\n",
    "        content = post.find_element(By.CSS_SELECTOR, 'div.entry-content').text.strip()\n",
    "\n",
    "        # Add the post data to the list\n",
    "        posts.append({\n",
    "            'title': title,\n",
    "            'date': date,\n",
    "            'content': content\n",
    "        })\n",
    "\n",
    "    return posts\n",
    "\n",
    "# Function to scrape all posts from all pages\n",
    "def scrape_all_posts():\n",
    "    all_posts = []\n",
    "    page_number = 1\n",
    "\n",
    "    while True:\n",
    "        print(f'Scraping page {page_number}...')\n",
    "        posts = scrape_posts(page_number)\n",
    "        if not posts:\n",
    "            break\n",
    "        all_posts.extend(posts)\n",
    "        page_number += 1\n",
    "\n",
    "    return all_posts\n",
    "\n",
    "# Run the scraper and collect all posts\n",
    "all_posts = scrape_all_posts()\n",
    "\n",
    "# Print the number of posts collected\n",
    "print(f'Total posts collected: {len(all_posts)}')\n",
    "\n",
    "# Optionally, save the posts to a file (e.g., JSON or CSV)\n",
    "with open('grrm_notablog_posts.json', 'w') as f:\n",
    "    json.dump(all_posts, f, indent=4)\n",
    "\n",
    "print('Posts saved to grrm_notablog_posts.json')\n",
    "\n",
    "# Close the WebDriver\n",
    "driver.quit()\n"
   ]
  }
 ],
 "metadata": {
  "kernelspec": {
   "display_name": ".venv",
   "language": "python",
   "name": "python3"
  },
  "language_info": {
   "codemirror_mode": {
    "name": "ipython",
    "version": 3
   },
   "file_extension": ".py",
   "mimetype": "text/x-python",
   "name": "python",
   "nbconvert_exporter": "python",
   "pygments_lexer": "ipython3",
   "version": "3.12.4"
  }
 },
 "nbformat": 4,
 "nbformat_minor": 2
}
